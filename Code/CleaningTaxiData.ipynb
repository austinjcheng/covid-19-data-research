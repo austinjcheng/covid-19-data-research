{
 "cells": [
  {
   "cell_type": "code",
   "execution_count": null,
   "metadata": {},
   "outputs": [],
   "source": [
    "#Not needed in Zeppelin\n",
    "from pyspark.sql import *\n",
    "\n",
    "spark = SparkSession.builder.appName(\"dataCleaning\").getOrCreate()"
   ]
  },
  {
   "cell_type": "code",
   "execution_count": null,
   "metadata": {},
   "outputs": [],
   "source": [
    "import sys\n",
    "from csv import reader\n",
    "from pyspark.sql.functions import *\n",
    "from datetime import datetime"
   ]
  },
  {
   "cell_type": "code",
   "execution_count": null,
   "metadata": {},
   "outputs": [],
   "source": [
    "# Final csv should be styled as such\n",
    "# ('VendorID', 'pickup_datetime', 'dropoff_datetime', 'passenger_count', 'trip_distance', 'RatecodeID', \n",
    "# 'store_and_fwd_flag', 'PULocationID', 'DOLocationID', 'payment_type', 'fare_amount', 'extra', 'mta_tax', \n",
    "# 'tip_amount', 'tolls_amount', 'improvement_surcharge', 'total_amount', 'congestion_surcharge', 'month of trip', \n",
    "# 'trip length in seconds')\n",
    "\n",
    "# Move data from green taxi set around to match above comment (minus last 2 columns)\n",
    "def mapGreenTaxi(x):\n",
    "   return (x[0], x[1], x[2], x[7], x[8], x[4], x[3], x[5], x[6], x[17], x[9], x[10], x[11], x[12], x[13], x[15], x[16], x[19])\n",
    "    \n",
    "# Ensure data from yellow taxi set is consistent with the new green taxi data format\n",
    "def mapYellowTaxi(x):\n",
    "    return (x[0], x[1], x[2], x[3], x[4], x[5], x[6], x[7], x[8], x[9], x[10], x[11], x[12], x[13], x[14], x[15], x[16], x[17])\n",
    "    \n",
    "# Remove blank and standardize null\n",
    "def removeBlankNulls(x):\n",
    "    VendorID = x[0] if x[0].strip() == \"1\" or x[0].strip() == \"2\" else \"NULL\"\n",
    "    pickup_datetime = x[1]\n",
    "    dropoff_datetime = x[2]\n",
    "    passenger_count = x[3] if x[3].strip() != \"\" else \"NULL\"\n",
    "    trip_distance = x[4] if x[4].strip() != \"\" else \"NULL\"\n",
    "    RatecodeID = x[5] if x[5].strip() != \"\" and x[5].strip() != \"99\" else \"NULL\"\n",
    "    store_and_fwd_flag = x[6] if x[6].strip() != \"\" and x[6].strip() != \"99\" else \"NULL\"\n",
    "    PULocationID = x[7] if x[7].strip() != \"\" and x[7].strip() != \"99\" else \"NULL\"\n",
    "    DOLocationID = x[8] if x[8].strip() != \"\" and x[8].strip() != \"99\" else \"NULL\"\n",
    "    payment_type = x[9] if x[9].strip() != \"\" and x[9].strip() != \"99\" else \"NULL\"\n",
    "    fare_amount = x[10] if x[10].strip() != \"\" else \"0\"\n",
    "    extra = x[11] if x[11].strip() != \"\" else \"0\"\n",
    "    mta_tax = x[12] if x[12].strip() != \"\" else \"0\"\n",
    "    tip_amount = x[13] if x[13].strip() != \"\" else \"0\"\n",
    "    tolls_amount = x[14] if x[14].strip() != \"\" else \"0\"\n",
    "    improvement_surcharge = x[15] if x[15].strip() != \"\" else \"0\"\n",
    "    total_amount = x[16] if x[16].strip() != \"\" else \"0\"\n",
    "    congestion_surcharge = x[17] if x[17].strip() != \"\" else \"0\"\n",
    "    \n",
    "    return (VendorID,pickup_datetime,dropoff_datetime,passenger_count,trip_distance,RatecodeID,store_and_fwd_flag,PULocationID,DOLocationID,payment_type,fare_amount,extra,mta_tax,tip_amount,tolls_amount,improvement_surcharge,total_amount,congestion_surcharge)\n",
    "    \n",
    "# Remove the header lines\n",
    "def filterHeaders(x):\n",
    "    if (x[0] != \"VendorID\"):\n",
    "        return True\n",
    "        \n",
    "# Remove any data with a negative trip_distance or fare_amount\n",
    "def removeInvalidValues(x):\n",
    "    year = x[1].split(\" \")[0].split(\"/\")[2]\n",
    "    if \"NULL\" not in x and year == \"2020\" and int(x[3]) > 0 and int(x[3]) < 5 and float(x[4]) > 0:\n",
    "        if float(x[10]) >= 2.5 and float(x[11]) >= 0 and float(x[12]) >= 0 and float(x[13]) >= 0 and float(x[14]) >= 0 and float(x[15]) >= 0 and float(x[16]) >= 0 and float(x[17]) >= 0:\n",
    "            return True\n",
    "            \n",
    "# Validate the fares based on TLC taxi fare guidelines\n",
    "def validateFares(x):\n",
    "    rateCode = x[5]\n",
    "    fare_amount = float(x[10])\n",
    "    extra = float(x[11])\n",
    "    mta_tax = float(x[12])\n",
    "    improvement_surcharge = float(x[15])\n",
    "    congestion_surcharge = float(x[17])\n",
    "    \n",
    "    if improvement_surcharge == 0.3:\n",
    "        if rateCode == \"1\" or rateCode == \"6\":\n",
    "            if (extra == 0 or extra == 0.5 or extra == 1) and (mta_tax == 0 or mta_tax == 0.5) and (congestion_surcharge == 0 or congestion_surcharge == 2.75 or congestion_surcharge == 2.5 or congestion_surcharge == 0.75):\n",
    "                return True\n",
    "        elif rateCode == \"2\":\n",
    "            if fare_amount == 52 and (extra == 0 or extra == 4.5) and mta_tax == 0.5 and (congestion_surcharge == 0 or congestion_surcharge == 2.75 or congestion_surcharge == 2.5 or congestion_surcharge == 0.75):\n",
    "                return True\n",
    "        elif rateCode == \"3\":\n",
    "            if mta_tax == 0 and congestion_surcharge == 0:\n",
    "                return True\n",
    "        elif rateCode == \"4\" or rateCode == \"5\":\n",
    "            if (mta_tax == 0 or mta_tax == 0.5) and (congestion_surcharge == 0 or congestion_surcharge == 2.75 or congestion_surcharge == 2.5 or congestion_surcharge == 0.75):\n",
    "                return True\n",
    "    return False\n",
    "        \n",
    "# Join list by comma to create CSV lines\n",
    "def formatAsCSV(x):\n",
    "    return ','.join(x)\n",
    "    \n",
    "#get month and trip length data\n",
    "def mapExtraInfo(x):\n",
    "    month = x[1].split(\" \")[0].split(\"/\")[0]\n",
    "    tripStart = datetime.strptime(x[1], \"%m/%d/%Y %I:%M:%S %p\")\n",
    "    tripEnd = datetime.strptime(x[2], \"%m/%d/%Y %I:%M:%S %p\")\n",
    "    tripTime = (tripEnd - tripStart).total_seconds()\n",
    "    \n",
    "    return (x[0], x[1], x[2], x[3], x[4], x[5], x[6], x[7], x[8], x[9], x[10], x[11], x[12], x[13], x[14], x[15], x[16], x[17], month, str(tripTime))"
   ]
  },
  {
   "cell_type": "code",
   "execution_count": null,
   "metadata": {},
   "outputs": [],
   "source": [
    "green_taxi = sc.textFile(\"2020_Green_Taxi_Trip_Data.csv\", 1)\n",
    "yellow_taxi = sc.textFile(\"2020_Yellow_Taxi_Trip_Data.csv\", 1)\n",
    "\n",
    "green_taxi = green_taxi.mapPartitions(lambda x : reader(x)).map(mapGreenTaxi)\n",
    "yellow_taxi = green_taxi.mapPartitions(lambda x : reader(x)).map(mapYellowTaxi)\n",
    "\n",
    "taxi = green_taxi.filter(filterHeaders).map(removeBlankNulls).filter(removeInvalidValues).filter(validateFares).map(mapExtraInfo)"
   ]
  },
  {
   "cell_type": "code",
   "execution_count": null,
   "metadata": {},
   "outputs": [],
   "source": [
    "# Output all the taxi data (only if needed)\n",
    "outputTaxi = taxi.map(formatAsCSV)\n",
    "outputTaxi.saveAsTextFile(\"2020_Taxi_Trip_Data.out\")"
   ]
  },
  {
   "cell_type": "code",
   "execution_count": null,
   "metadata": {},
   "outputs": [],
   "source": [
    "# Final csv should be styled as such\n",
    "# ('month of trip', 'trip length in seconds', 'passenger_count', 'trip_distance', 'RatecodeID', 'total_amount')\n",
    "\n",
    "# Remove data that we might not need for our analysis\n",
    "def removeMiscData(x):\n",
    "    return (x[18], x[19], x[3], x[4], x[5], x[16])"
   ]
  },
  {
   "cell_type": "code",
   "execution_count": null,
   "metadata": {},
   "outputs": [],
   "source": [
    "# Output the reduced taxi data (preferred)\n",
    "reduced_taxi = taxi.map(removeMiscData)\n",
    "outputRedTaxi = reduced_taxi.map(formatAsCSV)\n",
    "outputRedTaxi.saveAsTextFile(\"reduced_2020_Taxi_Trip_Data.out\")"
   ]
  },
  {
   "cell_type": "code",
   "execution_count": null,
   "metadata": {},
   "outputs": [],
   "source": [
    "#Not needed in Zeppelin\n",
    "sc.close()"
   ]
  }
 ],
 "metadata": {
  "kernelspec": {
   "display_name": "Python 3",
   "language": "python",
   "name": "python3"
  },
  "language_info": {
   "codemirror_mode": {
    "name": "ipython",
    "version": 3
   },
   "file_extension": ".py",
   "mimetype": "text/x-python",
   "name": "python",
   "nbconvert_exporter": "python",
   "pygments_lexer": "ipython3",
   "version": "3.6.2"
  }
 },
 "nbformat": 4,
 "nbformat_minor": 2
}
