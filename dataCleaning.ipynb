{
 "cells": [
  {
   "cell_type": "code",
   "execution_count": null,
   "metadata": {},
   "outputs": [],
   "source": [
    "#Not needed in Zeppelin\n",
    "from pyspark.sql import *\n",
    "\n",
    "spark = SparkSession.builder.appName(\"dataCleaning\").getOrCreate()"
   ]
  },
  {
   "cell_type": "code",
   "execution_count": null,
   "metadata": {},
   "outputs": [],
   "source": [
    "import sys\n",
    "from csv import reader\n",
    "from pyspark.sql.functions import *"
   ]
  },
  {
   "cell_type": "code",
   "execution_count": null,
   "metadata": {},
   "outputs": [],
   "source": [
    "# Final csv should be styled as such\n",
    "# ('VendorID', 'pickup_datetime', 'dropoff_datetime', 'passenger_count', 'trip_distance', 'RatecodeID', 'store_and_fwd_flag', 'PULocationID', 'DOLocationID', 'payment_type', 'fare_amount', 'extra', 'mta_tax', 'tip_amount', 'tolls_amount', 'improvement_surcharge', 'total_amount', 'congestion_surcharge')\n",
    "\n",
    "# Move data from green taxi set around to match above comment\n",
    "def mapGreenTaxi(x):\n",
    "    return (x[0], x[1], x[2], x[7], x[8], x[4], x[3], x[5], x[6], x[17], x[9], x[10], x[11], x[12], x[13], x[15], x[16], x[19])\n",
    "\n",
    "# Ensure data from yellow taxi set is consistent with the new green taxi data format\n",
    "def mapYellowTaxi(x):\n",
    "    return (x[0], x[1], x[2], x[3], x[4], x[5], x[6], x[7], x[8], x[9], x[10], x[11], x[12], x[13], x[14], x[15], x[16], x[17])\n",
    "\n",
    "# Remove the header lines\n",
    "def filterHeaders(x):\\\n",
    "    if (x[0] != \"VendorID\"):\n",
    "        return x\n",
    "        \n",
    "# Remove any data with a negative trip_distance or fare_amount\n",
    "def removeInvalidValues(x):\n",
    "    if float(x[4]) > 0 and float(x[10]) > 0:\n",
    "        return x\n",
    "    \n",
    "# Join list by comma to create CSV lines\n",
    "def formatAsCSV(x):\n",
    "    return ','.join(x)"
   ]
  },
  {
   "cell_type": "code",
   "execution_count": null,
   "metadata": {},
   "outputs": [],
   "source": [
    "green_taxi = sc.textFile(\"2020_Green_Taxi_Trip_Data.csv\", 1)\n",
    "yellow_taxi = sc.textFile(\"2020_Yellow_Taxi_Trip_Data.csv\", 1)\n",
    "green_taxi = green_taxi.mapPartitions(lambda x : reader(x)).map(mapGreenTaxi).filter(filterHeaders)\n",
    "yellow_taxi = green_taxi.mapPartitions(lambda x : reader(x)).map(mapYellowTaxi).filter(filterHeaders)\n",
    "\n",
    "taxi = green_taxi.union(yellow_taxi).filter(removeInvalidValues).map(formatAsCSV)"
   ]
  },
  {
   "cell_type": "code",
   "execution_count": null,
   "metadata": {},
   "outputs": [],
   "source": [
    "taxi.saveAsTextFile(\"2020_Taxi_Trip_Data.out\")"
   ]
  },
  {
   "cell_type": "code",
   "execution_count": null,
   "metadata": {},
   "outputs": [],
   "source": [
    "#Not needed in Zeppelin\n",
    "sc.close()"
   ]
  }
 ],
 "metadata": {
  "kernelspec": {
   "display_name": "Python 3",
   "language": "python",
   "name": "python3"
  },
  "language_info": {
   "codemirror_mode": {
    "name": "ipython",
    "version": 3
   },
   "file_extension": ".py",
   "mimetype": "text/x-python",
   "name": "python",
   "nbconvert_exporter": "python",
   "pygments_lexer": "ipython3",
   "version": "3.6.2"
  }
 },
 "nbformat": 4,
 "nbformat_minor": 2
}
