{
 "cells": [
  {
   "cell_type": "code",
   "execution_count": 19,
   "metadata": {},
   "outputs": [],
   "source": [
    "# Datasets\n",
    "# 2020 Green Taxi: 1.73M rows\n",
    "# 2020 Yellow Taxi: 24.6M rows\n",
    "# 2020 Turnstile: 13.3M rows"
   ]
  },
  {
   "cell_type": "code",
   "execution_count": 20,
   "metadata": {},
   "outputs": [],
   "source": [
    "import csv\n",
    "import random"
   ]
  },
  {
   "cell_type": "code",
   "execution_count": 21,
   "metadata": {},
   "outputs": [],
   "source": [
    "green_taxi = open('2020_Green_Taxi_Trip_Data.csv', 'r')\n",
    "reduced_green_taxi = open('reduced_2020_Green_Taxi_Trip_Data.csv', 'w')\n",
    "\n",
    "reduced_green_taxi.write(green_taxi.readline())\n",
    "\n",
    "for line in green_taxi:\n",
    "    if random.random() < 0.15:\n",
    "        reduced_green_taxi.write(line)\n",
    "\n",
    "green_taxi.close()\n",
    "reduced_green_taxi.close()"
   ]
  },
  {
   "cell_type": "code",
   "execution_count": 22,
   "metadata": {},
   "outputs": [],
   "source": [
    "yellow_taxi = open('2020_Yellow_Taxi_Trip_Data.csv', 'r')\n",
    "reduced_yellow_taxi = open('reduced_2020_Yellow_Taxi_Trip_Data.csv', 'w')\n",
    "\n",
    "reduced_yellow_taxi.write(yellow_taxi.readline())\n",
    "\n",
    "for line in yellow_taxi:\n",
    "    if random.random() < 0.0125:\n",
    "        reduced_yellow_taxi.write(line)\n",
    "\n",
    "yellow_taxi.close()\n",
    "reduced_yellow_taxi.close()"
   ]
  },
  {
   "cell_type": "code",
   "execution_count": 23,
   "metadata": {},
   "outputs": [],
   "source": [
    "turnstile = open('Turnstile_Usage_Data__2020.csv', 'r')\n",
    "reduced_turnstile = open('reduced_Turnstile_Usage_Data__2020.csv', 'w')\n",
    "\n",
    "reduced_turnstile.write(turnstile.readline())\n",
    "\n",
    "for line in turnstile:\n",
    "    if random.random() < 0.02:\n",
    "        reduced_turnstile.write(line)\n",
    "\n",
    "turnstile.close()\n",
    "reduced_turnstile.close()"
   ]
  },
  {
   "cell_type": "code",
   "execution_count": null,
   "metadata": {},
   "outputs": [],
   "source": []
  }
 ],
 "metadata": {
  "kernelspec": {
   "display_name": "Python 3",
   "language": "python",
   "name": "python3"
  },
  "language_info": {
   "codemirror_mode": {
    "name": "ipython",
    "version": 3
   },
   "file_extension": ".py",
   "mimetype": "text/x-python",
   "name": "python",
   "nbconvert_exporter": "python",
   "pygments_lexer": "ipython3",
   "version": "3.6.2"
  }
 },
 "nbformat": 4,
 "nbformat_minor": 2
}
